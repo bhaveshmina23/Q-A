{
  "nbformat": 4,
  "nbformat_minor": 0,
  "metadata": {
    "colab": {
      "provenance": []
    },
    "kernelspec": {
      "name": "python3",
      "display_name": "Python 3"
    },
    "language_info": {
      "name": "python"
    }
  },
  "cells": [
    {
      "cell_type": "markdown",
      "source": [
        "1. Who developed Python Programming Language?\n",
        "\n",
        "Guido van Rossum is the creator of the Python programming language. He began working on it in the late 1980s and released the first version in 1991."
      ],
      "metadata": {
        "id": "AbGLY-e52CCu"
      }
    },
    {
      "cell_type": "markdown",
      "source": [
        "2.Which type of Programming does Python support?\n",
        "\n",
        "Python is a general-purpose programming language. It can be used for a wide variety of tasks, including:\n",
        "Web development (using frameworks like Django and Flask)\n",
        "Data science (with libraries like NumPy, Pandas, and scikit-learn)\n",
        "Machine learning (using TensorFlow, PyTorch, etc.)\n",
        "Automation and scripting\n",
        "System administration\n",
        "Scientific computing"
      ],
      "metadata": {
        "id": "jdeS6E522C_5"
      }
    },
    {
      "cell_type": "markdown",
      "source": [
        "3. Is Python case sensitive when dealing with identifiers?\n",
        "\n",
        "Yes, Python is case-sensitive. This means that NAME, Name, and name are considered different identifiers. Be consistent with your casing throughout your code."
      ],
      "metadata": {
        "id": "3rB5k2_-2KLE"
      }
    },
    {
      "cell_type": "markdown",
      "source": [
        "4. What is the correct extension of the Python file?\n",
        "\n",
        "The standard extension for Python files is .py. For example, my_program.py"
      ],
      "metadata": {
        "id": "kCculYeS2Ou1"
      }
    },
    {
      "cell_type": "markdown",
      "source": [
        "5. Is Python code compiled or interpreted?\n",
        "\n",
        "Python is an interpreted language. This means that the code is not translated into machine code before execution. Instead, the interpreter reads and executes the code line by line during runtime."
      ],
      "metadata": {
        "id": "DUUTwYoq2SRa"
      }
    },
    {
      "cell_type": "markdown",
      "source": [
        "6. Name a few blocks of code used to define logic in Python language?\n",
        "\n",
        "Several blocks of code define logic in Python:\n",
        "if statements: Control program flow based on conditions (e.g., if condition: block_of_code)\n",
        "for loops: Iterate over a sequence of elements (e.g., for item in sequence: block_of_code)\n",
        "while loops: Continue execution as long as a condition is true (e.g., while condition: block_of_code)\n",
        "functions: Define reusable blocks of code that can be called with arguments (e.g., def function_name(arguments): block_of_code)"
      ],
      "metadata": {
        "id": "cDycdZGS2Zm9"
      }
    },
    {
      "cell_type": "markdown",
      "source": [
        "7. State a character used to give single-line comments in Python?\n",
        "\n",
        "The # symbol is used for single-line comments in Python. Any text following # on a line is ignored by the interpreter."
      ],
      "metadata": {
        "id": "NXN7Fkey2dlG"
      }
    },
    {
      "cell_type": "markdown",
      "source": [
        "8. Mention functions which can help us to find the version of Python that we are currently working on?\n",
        "\n",
        "You can use several methods to determine your current Python version:\n",
        "import platform; print(platform.python_version())\n",
        "Run python --version or python3 --version in your terminal."
      ],
      "metadata": {
        "id": "U52LMzpY2hHf"
      }
    },
    {
      "cell_type": "markdown",
      "source": [
        "9. Python supports the creation of anonymous functions at runtime, using a construct called\n",
        "\n",
        "Lambda expressions are used to create anonymous functions in Python. They are concise ways to define short, one-time-use functions. Here's an example:\n",
        "Python\n",
        "add = lambda x, y: x + y\n",
        "result = add(5, 3)"
      ],
      "metadata": {
        "id": "_CsydLTZ2kZ5"
      }
    },
    {
      "cell_type": "markdown",
      "source": [
        "10. What does pip stand for in Python?\n",
        "\n",
        "pip = Packages Installed from Packages."
      ],
      "metadata": {
        "id": "zI91K2BX2qct"
      }
    },
    {
      "cell_type": "markdown",
      "source": [
        "11. Mention a few built-in functions in Python:\n",
        "\n",
        "Python offers a rich set of built-in functions that cover various common operations. Here are some examples:\n",
        "\n",
        "print(): Outputs data to the console.\n",
        "type(): Returns the data type of a variable.\n",
        "len(): Returns the length of a sequence (string, list, tuple).\n",
        "range(): Generates a sequence of numbers within a specified range.\n",
        "input(): Takes user input from the console and returns it as a string.\n",
        "int(), float(), str(), bool(): Convert values to specific data types (integer, float, string, boolean).\n",
        "abs(): Returns the absolute value of a number.\n",
        "min(), max(): Find the minimum or maximum value in a sequence.\n",
        "sorted(): Sorts elements in a list."
      ],
      "metadata": {
        "id": "VgAFAh-e27RR"
      }
    },
    {
      "cell_type": "markdown",
      "source": [
        "12. What is the maximum possible length of an identifier in Python?\n",
        "\n",
        "In practice, there's no strict limit on identifier length in Python. However, it's generally recommended to keep them reasonably concise and descriptive for readability. The interpreter considers only the first 31 characters of an identifier to be unique. This means that identifiers longer than 31 characters that share the same first 31 characters will be treated as the same by Python."
      ],
      "metadata": {
        "id": "CreVqW0_3APz"
      }
    },
    {
      "cell_type": "markdown",
      "source": [
        "13. What are the benefits of using Python?\n",
        "\n",
        "Python offers several advantages that make it a popular choice for various programming tasks:\n",
        "\n",
        "Readability: Python's syntax is clear and concise, resembling natural language to a certain extent. This makes code easier to understand and maintain.\n",
        "Versatility: It's a general-purpose language suitable for web development, data science, machine learning, scripting, and more.\n",
        "Large Standard Library: Python comes with a vast library of built-in modules and functions, covering many common operations.\n",
        "Extensive Third-Party Libraries: A rich ecosystem of third-party libraries (like NumPy, Pandas, TensorFlow) provides extended functionality for various domains.\n",
        "Cross-Platform: Python code can run on different operating systems (Windows, macOS, Linux) without major modifications.\n",
        "Large and Active Community: Python benefits from a supportive and active community that contributes to its development and offers ample resources for learning and problem-solving."
      ],
      "metadata": {
        "id": "QYVOFrSv3EcD"
      }
    },
    {
      "cell_type": "markdown",
      "source": [
        "14. How is memory managed in Python?\n",
        "\n",
        "Python uses automatic memory management, also known as garbage collection. This means you don't need to explicitly deallocate memory when you're done with objects. The interpreter automatically reclaims memory when objects are no longer referenced."
      ],
      "metadata": {
        "id": "oc2q3OZC3JHP"
      }
    },
    {
      "cell_type": "markdown",
      "source": [
        "15. How to install Python on Windows and set path variables?\n",
        "\n",
        "Installing Python on Windows:\n",
        "\n",
        "Download the latest Python installer from https://www.python.org/downloads/windows/.\n",
        "Run the installer and ensure you check the option to \"Add Python 3.x to PATH\" during the installation process.\n",
        "Verifying Installation:\n",
        "\n",
        "Open a command prompt window (search for \"cmd\" in the Start menu).\n",
        "Type python --version or python3 --version and press Enter. If Python is installed correctly, you should see the installed Python version displayed."
      ],
      "metadata": {
        "id": "bHDHcbBe3Mad"
      }
    },
    {
      "cell_type": "markdown",
      "source": [
        "16. Is indentation required in Python?\n",
        "\n",
        "Yes, indentation is absolutely essential in Python. It defines code blocks and program flow, unlike other languages that use curly braces {}. Proper indentation is crucial for Python code to function correctly."
      ],
      "metadata": {
        "id": "gjxVW9DD3U8n"
      }
    },
    {
      "cell_type": "markdown",
      "source": [],
      "metadata": {
        "id": "lSM0SqkX3ZJN"
      }
    }
  ]
}
