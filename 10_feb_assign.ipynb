{
  "cells": [
    {
      "cell_type": "markdown",
      "metadata": {
        "id": "AlsXCLylKjPi"
      },
      "source": [
        "<a id=\"1\"></a>\n",
        "\n",
        "# <p style=\"padding:10px;background-color:#87CEEB ;margin:10;color:#000000;font-family:newtimeroman;font-size:100%;text-align:center;border-radius: 10px 10px ;overflow:hidden;font-weight:50\">Question 1</p>"
      ]
    },
    {
      "cell_type": "markdown",
      "metadata": {
        "id": "IjWzqNFxKjPi"
      },
      "source": [
        "## Question 1 : Which function is used to open a file? What are the different modes of opening a file? Explain each mode of file opening.\n",
        "---\n"
      ]
    },
    {
      "cell_type": "markdown",
      "metadata": {
        "id": "6o5n_GK0KjPi"
      },
      "source": [
        "## Answer : Files in Python can be opened with a built-in open() function\n",
        "Syntax : open(file_address, access_mode)\n",
        "1. In ‘r’ mode, the file opens in the read only mode. By default, if we don’t specify the mode argument, it will be treated as read or ‘r’ mode."
      ]
    },
    {
      "cell_type": "code",
      "execution_count": null,
      "metadata": {
        "id": "N6Lh9NDTKjPj",
        "outputId": "cc3c0428-50e5-49b8-c4a6-a6e017de77f1"
      },
      "outputs": [
        {
          "name": "stdout",
          "output_type": "stream",
          "text": [
            "This is my example file\n"
          ]
        }
      ],
      "source": [
        "# r mode example\n",
        "# Reading a file\n",
        "file = open('MyFile.txt', 'r')\n",
        "\n",
        "#read()\n",
        "text = file.read()\n",
        "\n",
        "print(text)\n",
        "file.close()"
      ]
    },
    {
      "cell_type": "markdown",
      "metadata": {
        "id": "9ORrJGppKjPk"
      },
      "source": [
        "2. In the ‘w’ mode, the file opens in write mode. It removes existing content, if present, in the file. If the specified file doesn’t exist, it creates one with the specified name."
      ]
    },
    {
      "cell_type": "code",
      "execution_count": null,
      "metadata": {
        "id": "o4b9tGsTKjPk"
      },
      "outputs": [],
      "source": [
        "# Writing a file\n",
        "file = open('MyFile.txt', 'w')\n",
        "line = 'This file is modified with write mode\\n'\n",
        "\n",
        "#write()\n",
        "file.write(line)\n",
        "file.close()"
      ]
    },
    {
      "cell_type": "markdown",
      "metadata": {
        "id": "NUmES454KjPl"
      },
      "source": [
        "3. In the ‘a’ mode, the file opens in append mode. It adds content to an existing file (or append at the end of the file). If the specified file doesn’t exist, it creates one with the specified name."
      ]
    },
    {
      "cell_type": "code",
      "execution_count": null,
      "metadata": {
        "id": "PaJiEt0CKjPl"
      },
      "outputs": [],
      "source": [
        "# Appending a file\n",
        "file = open('MyFile.txt', 'a')\n",
        "lines = 'This is my text written in append mode\\n'\n",
        "\n",
        "# Appending lines\n",
        "file.write(lines)\n",
        "file.close()"
      ]
    },
    {
      "cell_type": "markdown",
      "metadata": {
        "id": "-2XXGyz-KjPl"
      },
      "source": [
        "4.  In the ‘r+’ mode, the file opens in the read & write mode. It does not remove existing content, if present, in the file and does not create a file if not present in the directory."
      ]
    },
    {
      "cell_type": "code",
      "execution_count": null,
      "metadata": {
        "id": "aiKdhBUCKjPl",
        "outputId": "edd3e0b0-a616-47dc-f44f-41817f75218e"
      },
      "outputs": [
        {
          "name": "stdout",
          "output_type": "stream",
          "text": [
            "This file is modified with write mode\n",
            "This is text written in append mode\n",
            "\n"
          ]
        }
      ],
      "source": [
        "# Reading and Writing a file with r+ mode\n",
        "file = open('MyFile.txt', 'r+')\n",
        "lines = file.read()\n",
        "print(lines)\n",
        "file.write(lines)\n",
        "file.close()"
      ]
    },
    {
      "cell_type": "markdown",
      "metadata": {
        "id": "H__-oIr9KjPm"
      },
      "source": [
        "5. In the ‘w+’ mode, open the file in the read & write mode & remove existing content. If the file doesn’t exist, it creates a new one. It does not remove existing content & if a file doesn’t exist, it creates a new one"
      ]
    },
    {
      "cell_type": "code",
      "execution_count": null,
      "metadata": {
        "id": "Kf6LTqv0KjPm"
      },
      "outputs": [],
      "source": [
        "# Writing and Reading a file\n",
        "file = open('MyFile.txt', 'w+')\n",
        "lines = file.read()\n",
        "file.write('This is w+ mode\\n')\n",
        "file.close()"
      ]
    },
    {
      "cell_type": "markdown",
      "metadata": {
        "id": "RKVR8kyiKjPm"
      },
      "source": [
        "6. a+: Opens a file for both appending and reading"
      ]
    },
    {
      "cell_type": "code",
      "execution_count": null,
      "metadata": {
        "id": "eSY3sAniKjPm"
      },
      "outputs": [],
      "source": [
        "# Appending and reading a file\n",
        "file = open('MyFile.txt', 'a+')\n",
        "lines = file.read()\n",
        "file.write('This is a+ mode\\n')\n",
        "file.close()"
      ]
    },
    {
      "cell_type": "markdown",
      "metadata": {
        "id": "o7v9RxyOKjPm"
      },
      "source": [
        "<a id=\"2\"></a>\n",
        "\n",
        "# <p style=\"padding:10px;background-color:#87CEEB ;margin:10;color:#000000;font-family:newtimeroman;font-size:100%;text-align:center;border-radius: 10px 10px ;overflow:hidden;font-weight:50\">Question 2</p>"
      ]
    },
    {
      "cell_type": "markdown",
      "metadata": {
        "id": "m1GV9DqbKjPn"
      },
      "source": [
        "## Question 2: Why close() function is used? Why is it important to close a file?\n",
        "---"
      ]
    },
    {
      "cell_type": "markdown",
      "metadata": {
        "id": "YsyFVF16KjPn"
      },
      "source": [
        "## Answer : It is always a good practice to close a file after performing desired operations to it. Thus makes sure that all our changes have been saved to the file.\n",
        "Closing is done with .close() method"
      ]
    },
    {
      "cell_type": "code",
      "execution_count": null,
      "metadata": {
        "id": "t7Mk7pAFKjPn",
        "outputId": "eec419d6-4e80-4586-9ba6-0d8df622ffbf"
      },
      "outputs": [
        {
          "name": "stdout",
          "output_type": "stream",
          "text": [
            "This is w+ mode\n",
            "This is a+ mode\n",
            "\n"
          ]
        }
      ],
      "source": [
        "# Opening file in read mode\n",
        "file = open('MyFile.txt', 'r')\n",
        "\n",
        "#reading file and printing results\n",
        "text = file.read()\n",
        "print(text)\n",
        "\n",
        "# Closing the file\n",
        "file.close()"
      ]
    },
    {
      "cell_type": "markdown",
      "metadata": {
        "id": "CcyI7n2FKjPn"
      },
      "source": [
        "<a id=\"3\"></a>\n",
        "\n",
        "# <p style=\"padding:10px;background-color:#87CEEB ;margin:10;color:#000000;font-family:newtimeroman;font-size:100%;text-align:center;border-radius: 10px 10px ;overflow:hidden;font-weight:50\">Question 3</p>"
      ]
    },
    {
      "cell_type": "markdown",
      "metadata": {
        "id": "Ziq0HPqGKjPn"
      },
      "source": [
        "## Question 3: Write a python program to create a text file. Write ‘I want to become a Data Scientist’ in that file. Then close the file. Open this file and read the content of the file.\n",
        "---"
      ]
    },
    {
      "cell_type": "markdown",
      "metadata": {
        "id": "G7KfrLPPKjPn"
      },
      "source": [
        "## Answer :"
      ]
    },
    {
      "cell_type": "code",
      "execution_count": null,
      "metadata": {
        "id": "PHedLOOMKjPn"
      },
      "outputs": [],
      "source": [
        "# Opening a file in write mode\n",
        "new_file = open('new_file.txt','w')\n",
        "# Writing the file in write mode\n",
        "new_file.write('I want to become a excellent Data Scientist')\n",
        "# Closing the file\n",
        "new_file.close()"
      ]
    },
    {
      "cell_type": "code",
      "execution_count": null,
      "metadata": {
        "id": "YdHGNByVKjPn",
        "outputId": "3e196024-8a46-44dc-880b-841ed617eb40"
      },
      "outputs": [
        {
          "name": "stdout",
          "output_type": "stream",
          "text": [
            "I want to become a Data Scientist\n"
          ]
        }
      ],
      "source": [
        "# Opening file in read mode\n",
        "new_file = open('new_file.txt','r')\n",
        "# Reading the file\n",
        "lines = new_file.read()\n",
        "print(lines)\n",
        "# Closing the file\n",
        "new_file.close()"
      ]
    },
    {
      "cell_type": "markdown",
      "metadata": {
        "id": "Jv-VazfoKjPo"
      },
      "source": [
        "<a id=\"4\"></a>\n",
        "\n",
        "# <p style=\"padding:10px;background-color:#87CEEB ;margin:10;color:#000000;font-family:newtimeroman;font-size:100%;text-align:center;border-radius: 10px 10px ;overflow:hidden;font-weight:50\">Question 4</p>"
      ]
    },
    {
      "cell_type": "markdown",
      "metadata": {
        "id": "AD1HEJT2KjPo"
      },
      "source": [
        "## Question 4 : explain the following with python code: read(), readline() and readlines().\n",
        "---"
      ]
    },
    {
      "cell_type": "markdown",
      "metadata": {
        "id": "h5oJRSaGKjPo"
      },
      "source": [
        "## Answer :\n",
        "1. The read() method returns the specified number of bytes from the file. Default is -1 which means the whole file."
      ]
    },
    {
      "cell_type": "code",
      "execution_count": null,
      "metadata": {
        "id": "aWYb7jMpKjPo",
        "outputId": "284e4035-1aa5-4653-a868-b57a139ba6d9"
      },
      "outputs": [
        {
          "name": "stdout",
          "output_type": "stream",
          "text": [
            "This is w+ mode\n",
            "This is a+ mode\n",
            "\n"
          ]
        }
      ],
      "source": [
        "file = open('MyFile.txt','r')\n",
        "print(file.read())\n",
        "file.close()"
      ]
    },
    {
      "cell_type": "code",
      "execution_count": null,
      "metadata": {
        "id": "XWXCJqvjKjPo",
        "outputId": "c398ff08-c41d-4162-b816-e44c02975e23"
      },
      "outputs": [
        {
          "name": "stdout",
          "output_type": "stream",
          "text": [
            "This\n"
          ]
        }
      ],
      "source": [
        "file = open('MyFile.txt','r')\n",
        "print(file.read(4))\n",
        "file.close()"
      ]
    },
    {
      "cell_type": "markdown",
      "metadata": {
        "id": "P-omKi9eKjPo"
      },
      "source": [
        "2. The readline() method returns one line from the file. You can also specified how many bytes from the line to return, by using the size parameter."
      ]
    },
    {
      "cell_type": "code",
      "execution_count": null,
      "metadata": {
        "id": "LNhnXpf7KjPo",
        "outputId": "b5930e53-8060-417e-94a0-985953821c6d"
      },
      "outputs": [
        {
          "name": "stdout",
          "output_type": "stream",
          "text": [
            "This is w+ mode\n",
            "\n"
          ]
        }
      ],
      "source": [
        "file = open('MyFile.txt','r')\n",
        "print(file.readline())\n",
        "file.close()"
      ]
    },
    {
      "cell_type": "markdown",
      "metadata": {
        "id": "WyIHNFTnKjPp"
      },
      "source": [
        "3. The readlines() method returns a list containing each line in the file as a list item."
      ]
    },
    {
      "cell_type": "code",
      "execution_count": null,
      "metadata": {
        "id": "dXz4vqdgKjPp",
        "outputId": "ca769fd0-fd0f-452f-a109-d4bd5c75a85d"
      },
      "outputs": [
        {
          "name": "stdout",
          "output_type": "stream",
          "text": [
            "['This is w+ mode\\n', 'This is a+ mode\\n']\n"
          ]
        }
      ],
      "source": [
        "file = open('MyFile.txt','r')\n",
        "print(file.readlines())\n",
        "file.close()"
      ]
    },
    {
      "cell_type": "markdown",
      "metadata": {
        "id": "z-SCMCzvKjPp"
      },
      "source": [
        "<a id=\"5\"></a>\n",
        "\n",
        "# <p style=\"padding:10px;background-color:#87CEEB ;margin:10;color:#000000;font-family:newtimeroman;font-size:100%;text-align:center;border-radius: 10px 10px ;overflow:hidden;font-weight:50\">Question 5</p>"
      ]
    },
    {
      "cell_type": "markdown",
      "metadata": {
        "id": "HHLVZx_BKjPp"
      },
      "source": [
        "## Question 5 : Explain why with statement is used with open(). What is the advantage of using with statement and open() together\n",
        "---"
      ]
    },
    {
      "cell_type": "markdown",
      "metadata": {
        "id": "jbpjVDKgKjPp"
      },
      "source": [
        "## Answer : In Python, with statement is used in exception handling to make the code cleaner and much more readable. It simplifies the management of common resources like file streams.\n",
        "\n",
        "## Advantage is : unlike the previous implementations, there is no need to call file.close()\n",
        "\n",
        "It is guaranteed to close the file no matter how the nested block exits. If an exception occurs before the end of the block, it will close the file before the exception is caught by an outer exception handler."
      ]
    },
    {
      "cell_type": "code",
      "execution_count": null,
      "metadata": {
        "id": "RKD-hohRKjPp"
      },
      "outputs": [],
      "source": [
        "# using with statement\n",
        "with open('with_file.txt', 'w') as file:\n",
        "\tfile.write('This is file created using with statement')"
      ]
    },
    {
      "cell_type": "code",
      "execution_count": null,
      "metadata": {
        "id": "pPMycYxvKjPp",
        "outputId": "f6b2612e-ea52-462c-8c32-9118d44b728d"
      },
      "outputs": [
        {
          "name": "stdout",
          "output_type": "stream",
          "text": [
            "This is file created using with statement\n"
          ]
        }
      ],
      "source": [
        "# Using the above file using with statement and reading the file\n",
        "with open('with_file.txt','r') as file:\n",
        "    print(file.read())"
      ]
    },
    {
      "cell_type": "markdown",
      "metadata": {
        "id": "lnht5n1pKjP2"
      },
      "source": [
        "<a id=\"6\"></a>\n",
        "\n",
        "# <p style=\"padding:10px;background-color:#87CEEB ;margin:10;color:#000000;font-family:newtimeroman;font-size:100%;text-align:center;border-radius: 10px 10px ;overflow:hidden;font-weight:50\">Question 6</p>"
      ]
    },
    {
      "cell_type": "markdown",
      "metadata": {
        "id": "Xp-TB3-GKjP2"
      },
      "source": [
        "## Question 6: Explain the write() and writelines() functions. Give a suitable example\n",
        "---"
      ]
    },
    {
      "cell_type": "markdown",
      "metadata": {
        "id": "9ONNo6LjKjP2"
      },
      "source": [
        "## Answer :\n",
        "1. The write() function will write the content in the file without adding any extra characters.<br>\n",
        " While writing data to a file, we must know that the write function does not add a newline character(\\n) to the end of the string.<br>\n",
        " The write() function returns None."
      ]
    },
    {
      "cell_type": "code",
      "execution_count": 1,
      "metadata": {
        "id": "IGwORG8IKjP2"
      },
      "outputs": [],
      "source": [
        "student_file = open(\"students.txt\", \"w\")\n",
        "\n",
        "student_name = ['Bhavesh','lucky','arun']\n",
        "\n",
        "for i in student_name:\n",
        "    student_file.write(f'Name of student : {i}')\n",
        "    student_file.write(\"\\n\")\n",
        "\n",
        "student_file.close()"
      ]
    },
    {
      "cell_type": "code",
      "execution_count": null,
      "metadata": {
        "id": "ujFYfKraKjP3"
      },
      "outputs": [],
      "source": [
        "with open('students.txt','r') as file:\n",
        "    print(file.read())"
      ]
    },
    {
      "cell_type": "markdown",
      "metadata": {
        "id": "yzRavT85KjP3"
      },
      "source": [
        "2. writelines(): This function writes the content of a list to a file.<br>\n",
        "the list of strings that is passed to the writelines() function is written into the opened file.<br>\n",
        "Similar to the write() function, the writelines() function does not add a newline character(\\n) to the end of the string"
      ]
    },
    {
      "cell_type": "code",
      "execution_count": null,
      "metadata": {
        "id": "vjfuO1aYKjP3"
      },
      "outputs": [],
      "source": [
        "student_name2 = ['bhavesh','ganguly','tarun']\n",
        "# Adding \\n character to each element in list\n",
        "lst = []\n",
        "for i in student_name2:\n",
        "    lst.append(i+'\\n')\n",
        "# Writing with writelines\n",
        "with open('student2.txt','w') as file2:\n",
        "    file2.writelines(lst)"
      ]
    },
    {
      "cell_type": "code",
      "execution_count": null,
      "metadata": {
        "id": "kPWYhZsZKjP3"
      },
      "outputs": [],
      "source": [
        "with open('student2.txt','r') as file2:\n",
        "    print(file2.read())"
      ]
    }
  ],
  "metadata": {
    "kernelspec": {
      "display_name": "venv",
      "language": "python",
      "name": "python3"
    },
    "language_info": {
      "codemirror_mode": {
        "name": "ipython",
        "version": 3
      },
      "file_extension": ".py",
      "mimetype": "text/x-python",
      "name": "python",
      "nbconvert_exporter": "python",
      "pygments_lexer": "ipython3",
      "version": "3.10.7"
    },
    "orig_nbformat": 4,
    "vscode": {
      "interpreter": {
        "hash": "27149e82490bdaa27222c4e29544e396278d224a9f42010d392c3451ce079b12"
      }
    },
    "colab": {
      "provenance": []
    }
  },
  "nbformat": 4,
  "nbformat_minor": 0
}