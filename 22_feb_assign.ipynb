{
 "cells": [
  {
   "attachments": {},
   "cell_type": "markdown",
   "metadata": {},
   "source": [
    "## URL To Scrape : [https://www.youtube.com/@PW-Foundation/videos](https://www.youtube.com/@PW-Foundation/videos)"
   ]
  },
  {
   "attachments": {},
   "cell_type": "markdown",
   "metadata": {},
   "source": [
    "#### Input Required in above - URL Channel page Youtube Link like : https://www.youtube.com/@PW-Foundation/videos"
   ]
  },
  {
   "attachments": {},
   "cell_type": "markdown",
   "metadata": {},
   "source": [
    "<a id=\"log\"></a>\n",
    "\n",
    "# <p style=\"padding:10px;background-color:#87CEEB ;margin:10;color:#000000;font-family:newtimeroman;font-size:100%;text-align:center;border-radius: 10px 10px ;overflow:hidden;font-weight:50\">Setting Up logging</p>"
   ]
  },
  {
   "cell_type": "code",
   "execution_count": 1,
   "metadata": {},
   "outputs": [],
   "source": [
    "import logging\n",
    "logging.basicConfig(filename='ImageScrapping.log',level=logging.DEBUG,format= '%(asctime)s - %(name)s - %(levelname)s - %(message)s')"
   ]
  },
  {
   "attachments": {},
   "cell_type": "markdown",
   "metadata": {},
   "source": [
    "<a id=\"1\"></a>\n",
    "\n",
    "# <p style=\"padding:10px;background-color:#87CEEB ;margin:10;color:#000000;font-family:newtimeroman;font-size:100%;text-align:center;border-radius: 10px 10px ;overflow:hidden;font-weight:50\">Question 1</p>"
   ]
  },
  {
   "attachments": {},
   "cell_type": "markdown",
   "metadata": {},
   "source": [
    "## Question 1 : Write a python program to extract the video URL of the first five videos.\n",
    "---"
   ]
  },
  {
   "attachments": {},
   "cell_type": "markdown",
   "metadata": {},
   "source": [
    "## Answer:\n",
    "\n",
    "### Youtube is a dynamic website which is created with JavaScript . \n",
    "\n",
    "### Beautiful Soup will fail in scraping of given url.\n",
    "\n",
    "### Using Selenium to extract the data"
   ]
  },
  {
   "attachments": {},
   "cell_type": "markdown",
   "metadata": {},
   "source": [
    "### Step 1: Import Selenium and dependencies in Headless mode"
   ]
  },
  {
   "cell_type": "code",
   "execution_count": 2,
   "metadata": {},
   "outputs": [],
   "source": [
    "from selenium import webdriver\n",
    "from selenium.webdriver.common.by import By\n",
    "from selenium.webdriver.chrome.service import Service\n",
    "\n",
    "# Importing Selenium webdriver in headless mode\n",
    "user_agent = \"Mozilla/5.0 (Windows NT 10.0; Win64; x64) AppleWebKit/537.36 (KHTML, like Gecko) Chrome/85.0.4183.83 Safari/537.36\"\n",
    "\n",
    "options = webdriver.ChromeOptions()\n",
    "options.add_argument('--headless')\n",
    "options.add_argument(f'user-agent={user_agent}')\n",
    "options.add_argument(\"--window-size=1920,1080\")\n",
    "options.add_argument('--ignore-certificate-errors')\n",
    "options.add_argument('--allow-running-insecure-content')\n",
    "options.add_argument(\"--disable-extensions\")\n",
    "options.add_argument(\"--proxy-server='direct://'\")\n",
    "options.add_argument(\"--proxy-bypass-list=*\")\n",
    "options.add_argument(\"--start-maximized\")\n",
    "options.add_argument('--disable-gpu')\n",
    "options.add_argument('--disable-dev-shm-usage')\n",
    "options.add_argument('--no-sandbox')\n",
    "s = Service(executable_path='./Assignment 21 - 22 February 2023/chromedriver.exe')\n",
    "driver = webdriver.Chrome(service=s, options=options)"
   ]
  },
  {
   "attachments": {},
   "cell_type": "markdown",
   "metadata": {},
   "source": [
    "### Step 2: Defining a function to get top5 urls from the channel "
   ]
  },
  {
   "cell_type": "code",
   "execution_count": 3,
   "metadata": {},
   "outputs": [],
   "source": [
    "def get_top5_urls(url):\n",
    "    driver.get(url)\n",
    "    driver.execute_script(\"window.scrollTo(0, 200)\")\n",
    "    url_elems = driver.find_elements(By.XPATH,\"//a[@id='video-title-link']\")    \n",
    "    url_elms5 = url_elems[0:5]\n",
    "    top5url = []\n",
    "    for i in url_elms5:\n",
    "        top5url.append(i.get_attribute('href'))   \n",
    "    return top5url   "
   ]
  },
  {
   "attachments": {},
   "cell_type": "markdown",
   "metadata": {},
   "source": [
    "### Step 3: Executing the function to get top5 URL's"
   ]
  },
  {
   "cell_type": "code",
   "execution_count": 4,
   "metadata": {},
   "outputs": [
    {
     "data": {
      "text/plain": [
       "['https://www.youtube.com/watch?v=nX5ONgCdLcc',\n",
       " 'https://www.youtube.com/watch?v=AM2Dt7cNebw',\n",
       " 'https://www.youtube.com/watch?v=7nMJVhey9TM',\n",
       " 'https://www.youtube.com/watch?v=FSVVlcFUCMk',\n",
       " 'https://www.youtube.com/watch?v=vKxdTuOirnI']"
      ]
     },
     "execution_count": 4,
     "metadata": {},
     "output_type": "execute_result"
    }
   ],
   "source": [
    "url = \"https://www.youtube.com/@PW-Foundation/videos\"\n",
    "top5url = get_top5_urls(url)\n",
    "top5url"
   ]
  },
  {
   "attachments": {},
   "cell_type": "markdown",
   "metadata": {},
   "source": [
    "<a id=\"2\"></a>\n",
    "\n",
    "# <p style=\"padding:10px;background-color:#87CEEB ;margin:10;color:#000000;font-family:newtimeroman;font-size:100%;text-align:center;border-radius: 10px 10px ;overflow:hidden;font-weight:50\">Question 2</p>"
   ]
  },
  {
   "attachments": {},
   "cell_type": "markdown",
   "metadata": {},
   "source": [
    "## Question 2: Write a python program to extract the URL of the video thumbnails of the first five videos.\n",
    "---"
   ]
  },
  {
   "attachments": {},
   "cell_type": "markdown",
   "metadata": {},
   "source": [
    "## Answer:"
   ]
  },
  {
   "cell_type": "code",
   "execution_count": 76,
   "metadata": {},
   "outputs": [],
   "source": [
    "import time\n",
    "def thumbnail_urls(url):\n",
    "    driver.get(url)\n",
    "    time.sleep(2)    \n",
    "    images = driver.find_elements(By.TAG_NAME,'img')\n",
    "    img_links = []\n",
    "    for i in images:    \n",
    "        link = i.get_attribute('src')\n",
    "        if str(link).find('i.ytimg.com')>0:\n",
    "            img_links.append(link)    \n",
    "    return img_links[0:5]"
   ]
  },
  {
   "cell_type": "code",
   "execution_count": 79,
   "metadata": {},
   "outputs": [
    {
     "data": {
      "text/plain": [
       "['https://i.ytimg.com/vi/nX5ONgCdLcc/hqdefault.jpg?sqp=-oaymwEcCNACELwBSFXyq4qpAw4IARUAAIhCGAFwAcABBg==&rs=AOn4CLBaa_KLfKyYbUYRsb5xf0YCp1YrlQ',\n",
       " 'https://i.ytimg.com/vi/AM2Dt7cNebw/hqdefault.jpg?sqp=-oaymwEcCNACELwBSFXyq4qpAw4IARUAAIhCGAFwAcABBg==&rs=AOn4CLBJHWHabeJ94dcUDlDDNfvQxnUfJg',\n",
       " 'https://i.ytimg.com/vi/7nMJVhey9TM/hqdefault.jpg?sqp=-oaymwEcCNACELwBSFXyq4qpAw4IARUAAIhCGAFwAcABBg==&rs=AOn4CLDHikOj7gH4eQNudv7c1qNbwcMWyA',\n",
       " 'https://i.ytimg.com/vi/FSVVlcFUCMk/hqdefault.jpg?sqp=-oaymwEcCNACELwBSFXyq4qpAw4IARUAAIhCGAFwAcABBg==&rs=AOn4CLAadJS9mLtZptLHtKHEefPgqk3NCg',\n",
       " 'https://i.ytimg.com/vi/vKxdTuOirnI/hqdefault.jpg?sqp=-oaymwEcCNACELwBSFXyq4qpAw4IARUAAIhCGAFwAcABBg==&rs=AOn4CLBonfyIr0oe5WzFo2o2hoU5Yxbv8w']"
      ]
     },
     "execution_count": 79,
     "metadata": {},
     "output_type": "execute_result"
    }
   ],
   "source": [
    "top5thumbnails = thumbnail_urls(url)\n",
    "top5thumbnails"
   ]
  },
  {
   "attachments": {},
   "cell_type": "markdown",
   "metadata": {},
   "source": [
    "<a id=\"3\"></a>\n",
    "\n",
    "# <p style=\"padding:10px;background-color:#87CEEB ;margin:10;color:#000000;font-family:newtimeroman;font-size:100%;text-align:center;border-radius: 10px 10px ;overflow:hidden;font-weight:50\">Question 3</p>"
   ]
  },
  {
   "attachments": {},
   "cell_type": "markdown",
   "metadata": {},
   "source": [
    "## Question 3: Write a python program to extract the title of the first five videos.\n",
    "---"
   ]
  },
  {
   "attachments": {},
   "cell_type": "markdown",
   "metadata": {},
   "source": [
    "## Answer :"
   ]
  },
  {
   "cell_type": "code",
   "execution_count": 5,
   "metadata": {},
   "outputs": [],
   "source": [
    "def title_finder(url):\n",
    "    driver.get(url)\n",
    "    url_elems = driver.find_elements(By.XPATH,\"//a[@id='video-title-link']\")\n",
    "    url_elems5 = url_elems[0:5] \n",
    "    title_text = []\n",
    "    for i in url_elems5:\n",
    "        title_text.append(i.get_attribute('title'))\n",
    "    return(title_text)"
   ]
  },
  {
   "cell_type": "code",
   "execution_count": 7,
   "metadata": {},
   "outputs": [
    {
     "data": {
      "text/plain": [
       "['How to Attempt English Board Exam ????',\n",
       " 'Best technique to attempt SST paper in Board exam || Class 10th',\n",
       " 'Last Minute Strategy To Score More Than 98% || ICSE Boards || Class-10th',\n",
       " 'Why You Should Choose Commerce After 10th? || Complete Information💯',\n",
       " \"Follow This Plan To Score More Than 95% in Boards || Topper's Strategy\"]"
      ]
     },
     "execution_count": 7,
     "metadata": {},
     "output_type": "execute_result"
    }
   ],
   "source": [
    "top5titles = title_finder(url)\n",
    "top5titles"
   ]
  },
  {
   "attachments": {},
   "cell_type": "markdown",
   "metadata": {},
   "source": [
    "<a id=\"4\"></a>\n",
    "\n",
    "# <p style=\"padding:10px;background-color:#87CEEB ;margin:10;color:#000000;font-family:newtimeroman;font-size:100%;text-align:center;border-radius: 10px 10px ;overflow:hidden;font-weight:50\">Question 4</p>"
   ]
  },
  {
   "attachments": {},
   "cell_type": "markdown",
   "metadata": {},
   "source": [
    "## Question 4: Write a python program to extract the number of views of the first five videos.\n",
    "---"
   ]
  },
  {
   "attachments": {},
   "cell_type": "markdown",
   "metadata": {},
   "source": [
    "## Answer:"
   ]
  },
  {
   "cell_type": "code",
   "execution_count": 18,
   "metadata": {},
   "outputs": [],
   "source": [
    "def views_finder(url):\n",
    "    driver.get(url)\n",
    "    views_elements = driver.find_elements(By.XPATH,\"//span[@class='inline-metadata-item style-scope ytd-video-meta-block']\")\n",
    "    view_count = []\n",
    "    for i in views_elements:  \n",
    "        meta_string = i.text      \n",
    "        if meta_string.find('views')>0:      \n",
    "            view_count.append(meta_string)\n",
    "    return view_count[0:5] "
   ]
  },
  {
   "cell_type": "code",
   "execution_count": 20,
   "metadata": {},
   "outputs": [
    {
     "data": {
      "text/plain": [
       "['96K views', '53K views', '21K views', '28K views', '310K views']"
      ]
     },
     "execution_count": 20,
     "metadata": {},
     "output_type": "execute_result"
    }
   ],
   "source": [
    "top5views = views_finder(url)\n",
    "top5views"
   ]
  },
  {
   "attachments": {},
   "cell_type": "markdown",
   "metadata": {},
   "source": [
    "<a id=\"5\"></a>\n",
    "\n",
    "# <p style=\"padding:10px;background-color:#87CEEB ;margin:10;color:#000000;font-family:newtimeroman;font-size:100%;text-align:center;border-radius: 10px 10px ;overflow:hidden;font-weight:50\">Question 5</p>"
   ]
  },
  {
   "attachments": {},
   "cell_type": "markdown",
   "metadata": {},
   "source": [
    "## Question 5: Write a python program to extract the time of posting of video for the first five videos.\n",
    "---"
   ]
  },
  {
   "cell_type": "code",
   "execution_count": 71,
   "metadata": {},
   "outputs": [],
   "source": [
    "import time\n",
    "def get_video_upload_time(url):\n",
    "    driver.get(url)\n",
    "    time.sleep(2)\n",
    "    views_elements = driver.find_elements(By.XPATH,\"//span[@class='inline-metadata-item style-scope ytd-video-meta-block']\")\n",
    "    time_relative = []\n",
    "    for i in views_elements:  \n",
    "        meta_string = i.text             \n",
    "        if meta_string.find('ago')>0:      \n",
    "            time_relative.append(meta_string)\n",
    "        \n",
    "    return time_relative[0:5]"
   ]
  },
  {
   "cell_type": "code",
   "execution_count": 72,
   "metadata": {},
   "outputs": [
    {
     "data": {
      "text/plain": [
       "['22 hours ago', '1 day ago', '2 days ago', '3 days ago', '8 days ago']"
      ]
     },
     "execution_count": 72,
     "metadata": {},
     "output_type": "execute_result"
    }
   ],
   "source": [
    "rel_time = get_video_upload_time(url)\n",
    "rel_time"
   ]
  },
  {
   "cell_type": "code",
   "execution_count": 69,
   "metadata": {},
   "outputs": [],
   "source": [
    "## Creating function to get date from relative time\n",
    "from datetime import datetime\n",
    "import pandas as pd\n",
    "from dateutil.relativedelta import relativedelta\n",
    "def get_absolute_date(relative_time):\n",
    "    absolute_time = []\n",
    "    for i in relative_time:        \n",
    "        if i.find('hours')>0:\n",
    "            hours = int(i.split(\" \")[0])\n",
    "            tm_absolute = datetime.now() - pd.Timedelta(hours=hours)\n",
    "            dt_string = tm_absolute.strftime(\"%d %b %Y\")\n",
    "            absolute_time.append(dt_string)\n",
    "        elif i.find('day')>0:\n",
    "            days = int(i.split(\" \")[0])\n",
    "            tm_absolute = datetime.now() - pd.Timedelta(days=days)\n",
    "            dt_string = tm_absolute.strftime(\"%d %b %Y\")\n",
    "            absolute_time.append(dt_string)\n",
    "        elif i.find('week')>0:\n",
    "            weeks = int(i.split(\" \")[0])\n",
    "            tm_absolute = datetime.now() - pd.Timedelta(weeks=weeks)\n",
    "            dt_string = tm_absolute.strftime(\"%d %b %Y\")\n",
    "            absolute_time.append(dt_string)\n",
    "        elif i.find('month')>0:\n",
    "            months = int(i.split(\" \")[0])\n",
    "            tm_absolute = datetime.now() - relativedelta(months=months)\n",
    "            dt_string = tm_absolute.strftime(\"%d %b %Y\")\n",
    "            absolute_time.append(dt_string)\n",
    "        elif i.find('year')>0:\n",
    "            years = int(i.split(\" \")[0])\n",
    "            tm_absolute = datetime.now() - relativedelta(years=years)\n",
    "            dt_string = tm_absolute.strftime(\"%d %b %Y\")\n",
    "            absolute_time.append(dt_string)\n",
    "\n",
    "    return absolute_time"
   ]
  },
  {
   "cell_type": "code",
   "execution_count": 73,
   "metadata": {},
   "outputs": [
    {
     "data": {
      "text/plain": [
       "['23 Feb 2023', '23 Feb 2023', '22 Feb 2023', '21 Feb 2023', '16 Feb 2023']"
      ]
     },
     "execution_count": 73,
     "metadata": {},
     "output_type": "execute_result"
    }
   ],
   "source": [
    "abs_date = get_absolute_date(rel_time)\n",
    "abs_date"
   ]
  },
  {
   "attachments": {},
   "cell_type": "markdown",
   "metadata": {},
   "source": [
    "<a id=\"6\"></a>\n",
    "\n",
    "# <p style=\"padding:10px;background-color:#87CEEB ;margin:10;color:#000000;font-family:newtimeroman;font-size:100%;text-align:center;border-radius: 10px 10px ;overflow:hidden;font-weight:50\">Saving Data into csv file</p>"
   ]
  },
  {
   "cell_type": "code",
   "execution_count": 80,
   "metadata": {},
   "outputs": [
    {
     "data": {
      "text/html": [
       "<div>\n",
       "<style scoped>\n",
       "    .dataframe tbody tr th:only-of-type {\n",
       "        vertical-align: middle;\n",
       "    }\n",
       "\n",
       "    .dataframe tbody tr th {\n",
       "        vertical-align: top;\n",
       "    }\n",
       "\n",
       "    .dataframe thead th {\n",
       "        text-align: right;\n",
       "    }\n",
       "</style>\n",
       "<table border=\"1\" class=\"dataframe\">\n",
       "  <thead>\n",
       "    <tr style=\"text-align: right;\">\n",
       "      <th></th>\n",
       "      <th>title</th>\n",
       "      <th>uploadDate</th>\n",
       "      <th>views</th>\n",
       "      <th>videoURL</th>\n",
       "      <th>thumbnailURL</th>\n",
       "    </tr>\n",
       "  </thead>\n",
       "  <tbody>\n",
       "    <tr>\n",
       "      <th>0</th>\n",
       "      <td>How to Attempt English Board Exam ????</td>\n",
       "      <td>23 Feb 2023</td>\n",
       "      <td>96K views</td>\n",
       "      <td>https://www.youtube.com/watch?v=nX5ONgCdLcc</td>\n",
       "      <td>https://i.ytimg.com/vi/nX5ONgCdLcc/hqdefault.j...</td>\n",
       "    </tr>\n",
       "    <tr>\n",
       "      <th>1</th>\n",
       "      <td>Best technique to attempt SST paper in Board e...</td>\n",
       "      <td>23 Feb 2023</td>\n",
       "      <td>53K views</td>\n",
       "      <td>https://www.youtube.com/watch?v=AM2Dt7cNebw</td>\n",
       "      <td>https://i.ytimg.com/vi/AM2Dt7cNebw/hqdefault.j...</td>\n",
       "    </tr>\n",
       "    <tr>\n",
       "      <th>2</th>\n",
       "      <td>Last Minute Strategy To Score More Than 98% ||...</td>\n",
       "      <td>22 Feb 2023</td>\n",
       "      <td>21K views</td>\n",
       "      <td>https://www.youtube.com/watch?v=7nMJVhey9TM</td>\n",
       "      <td>https://i.ytimg.com/vi/7nMJVhey9TM/hqdefault.j...</td>\n",
       "    </tr>\n",
       "    <tr>\n",
       "      <th>3</th>\n",
       "      <td>Why You Should Choose Commerce After 10th? || ...</td>\n",
       "      <td>21 Feb 2023</td>\n",
       "      <td>28K views</td>\n",
       "      <td>https://www.youtube.com/watch?v=FSVVlcFUCMk</td>\n",
       "      <td>https://i.ytimg.com/vi/FSVVlcFUCMk/hqdefault.j...</td>\n",
       "    </tr>\n",
       "    <tr>\n",
       "      <th>4</th>\n",
       "      <td>Follow This Plan To Score More Than 95% in Boa...</td>\n",
       "      <td>16 Feb 2023</td>\n",
       "      <td>310K views</td>\n",
       "      <td>https://www.youtube.com/watch?v=vKxdTuOirnI</td>\n",
       "      <td>https://i.ytimg.com/vi/vKxdTuOirnI/hqdefault.j...</td>\n",
       "    </tr>\n",
       "  </tbody>\n",
       "</table>\n",
       "</div>"
      ],
      "text/plain": [
       "                                               title   uploadDate       views  \\\n",
       "0             How to Attempt English Board Exam ????  23 Feb 2023   96K views   \n",
       "1  Best technique to attempt SST paper in Board e...  23 Feb 2023   53K views   \n",
       "2  Last Minute Strategy To Score More Than 98% ||...  22 Feb 2023   21K views   \n",
       "3  Why You Should Choose Commerce After 10th? || ...  21 Feb 2023   28K views   \n",
       "4  Follow This Plan To Score More Than 95% in Boa...  16 Feb 2023  310K views   \n",
       "\n",
       "                                      videoURL  \\\n",
       "0  https://www.youtube.com/watch?v=nX5ONgCdLcc   \n",
       "1  https://www.youtube.com/watch?v=AM2Dt7cNebw   \n",
       "2  https://www.youtube.com/watch?v=7nMJVhey9TM   \n",
       "3  https://www.youtube.com/watch?v=FSVVlcFUCMk   \n",
       "4  https://www.youtube.com/watch?v=vKxdTuOirnI   \n",
       "\n",
       "                                        thumbnailURL  \n",
       "0  https://i.ytimg.com/vi/nX5ONgCdLcc/hqdefault.j...  \n",
       "1  https://i.ytimg.com/vi/AM2Dt7cNebw/hqdefault.j...  \n",
       "2  https://i.ytimg.com/vi/7nMJVhey9TM/hqdefault.j...  \n",
       "3  https://i.ytimg.com/vi/FSVVlcFUCMk/hqdefault.j...  \n",
       "4  https://i.ytimg.com/vi/vKxdTuOirnI/hqdefault.j...  "
      ]
     },
     "execution_count": 80,
     "metadata": {},
     "output_type": "execute_result"
    }
   ],
   "source": [
    "import pandas as pd\n",
    "df = pd.DataFrame({'title':top5titles,'uploadDate':abs_date,'views':top5views,'videoURL':top5url,'thumbnailURL':top5thumbnails})\n",
    "df"
   ]
  },
  {
   "cell_type": "code",
   "execution_count": 81,
   "metadata": {},
   "outputs": [],
   "source": [
    "df.to_csv('YoutubeData.csv',index=False)"
   ]
  },
  {
   "attachments": {},
   "cell_type": "markdown",
   "metadata": {},
   "source": [
    "[Link to YoutubeData.csv](YoutubeData.csv)"
   ]
  },
  {
   "attachments": {},
   "cell_type": "markdown",
   "metadata": {},
   "source": [
    "<a id=\"7\"></a>\n",
    "\n",
    "# <p style=\"padding:10px;background-color:#87CEEB ;margin:10;color:#000000;font-family:newtimeroman;font-size:100%;text-align:center;border-radius: 10px 10px ;overflow:hidden;font-weight:50\">Single Selenium Function do all above activities</p>"
   ]
  },
  {
   "cell_type": "code",
   "execution_count": 104,
   "metadata": {},
   "outputs": [],
   "source": [
    "import pandas as pd\n",
    "import time\n",
    "def get_yt_data(url):\n",
    "    driver.get(url)\n",
    "    time.sleep(2)\n",
    "    driver.execute_script(\"window.scrollTo(0, 200)\")    \n",
    "    \n",
    "    # First Get Titles and URL    \n",
    "    url_elems = driver.find_elements(By.XPATH,\"//a[@id='video-title-link']\")\n",
    "    url_elems5 = url_elems[0:5] \n",
    "    top5titles = []\n",
    "    top5urls = []\n",
    "    for i in url_elems5:\n",
    "        top5titles.append(i.get_attribute('title'))\n",
    "        top5urls.append(i.get_attribute('href'))\n",
    "\n",
    "    # Get Thumbnail URL's\n",
    "    images = driver.find_elements(By.TAG_NAME,'img')\n",
    "    img_links = []    \n",
    "    for i in images:    \n",
    "        link = i.get_attribute('src')\n",
    "        if str(link).find('i.ytimg.com')>0:\n",
    "            img_links.append(link)\n",
    "    top5thumbnails = img_links[0:5]\n",
    "\n",
    "    # Get Views and Relative time\n",
    "    views_elements = driver.find_elements(By.XPATH,\"//span[@class='inline-metadata-item style-scope ytd-video-meta-block']\")\n",
    "    view_count = []\n",
    "    rel_time = []\n",
    "    for i in views_elements:  \n",
    "        meta_string = i.text      \n",
    "        if meta_string.find('views')>0:      \n",
    "            view_count.append(meta_string)\n",
    "        elif meta_string.find('ago')>0:\n",
    "            rel_time.append(meta_string)\n",
    "    \n",
    "    top5views = view_count[0:5]\n",
    "    top5_reltime = rel_time[0:5]\n",
    "\n",
    "    # converting relative time to absolute dates with custom function get_absolute_date\n",
    "    try:\n",
    "        abs_date =get_absolute_date(top5_reltime)\n",
    "    except Exception as e:\n",
    "        print('Exception Occured and handled :',e)    \n",
    "    \n",
    "    # Creating a Final dictionary for converting to dataframe\n",
    "    yt_dict = {'title':top5titles,'uploadDate':abs_date,'views':top5views,'videoURL':top5urls,'thumbnailURL':top5thumbnails}\n",
    "\n",
    "    # Converting to dataframe\n",
    "    yt_df = pd.DataFrame(yt_dict)\n",
    "\n",
    "    return yt_df   \n",
    "    "
   ]
  },
  {
   "cell_type": "code",
   "execution_count": 105,
   "metadata": {},
   "outputs": [
    {
     "data": {
      "text/html": [
       "<div>\n",
       "<style scoped>\n",
       "    .dataframe tbody tr th:only-of-type {\n",
       "        vertical-align: middle;\n",
       "    }\n",
       "\n",
       "    .dataframe tbody tr th {\n",
       "        vertical-align: top;\n",
       "    }\n",
       "\n",
       "    .dataframe thead th {\n",
       "        text-align: right;\n",
       "    }\n",
       "</style>\n",
       "<table border=\"1\" class=\"dataframe\">\n",
       "  <thead>\n",
       "    <tr style=\"text-align: right;\">\n",
       "      <th></th>\n",
       "      <th>title</th>\n",
       "      <th>uploadDate</th>\n",
       "      <th>views</th>\n",
       "      <th>videoURL</th>\n",
       "      <th>thumbnailURL</th>\n",
       "    </tr>\n",
       "  </thead>\n",
       "  <tbody>\n",
       "    <tr>\n",
       "      <th>0</th>\n",
       "      <td>How to Attempt English Board Exam ????</td>\n",
       "      <td>23 Feb 2023</td>\n",
       "      <td>100K views</td>\n",
       "      <td>https://www.youtube.com/watch?v=nX5ONgCdLcc</td>\n",
       "      <td>https://i.ytimg.com/vi/nX5ONgCdLcc/hqdefault.j...</td>\n",
       "    </tr>\n",
       "    <tr>\n",
       "      <th>1</th>\n",
       "      <td>Best technique to attempt SST paper in Board e...</td>\n",
       "      <td>23 Feb 2023</td>\n",
       "      <td>53K views</td>\n",
       "      <td>https://www.youtube.com/watch?v=AM2Dt7cNebw</td>\n",
       "      <td>https://i.ytimg.com/vi/AM2Dt7cNebw/hqdefault.j...</td>\n",
       "    </tr>\n",
       "    <tr>\n",
       "      <th>2</th>\n",
       "      <td>Last Minute Strategy To Score More Than 98% ||...</td>\n",
       "      <td>22 Feb 2023</td>\n",
       "      <td>21K views</td>\n",
       "      <td>https://www.youtube.com/watch?v=7nMJVhey9TM</td>\n",
       "      <td>https://i.ytimg.com/vi/7nMJVhey9TM/hqdefault.j...</td>\n",
       "    </tr>\n",
       "    <tr>\n",
       "      <th>3</th>\n",
       "      <td>Why You Should Choose Commerce After 10th? || ...</td>\n",
       "      <td>20 Feb 2023</td>\n",
       "      <td>28K views</td>\n",
       "      <td>https://www.youtube.com/watch?v=FSVVlcFUCMk</td>\n",
       "      <td>https://i.ytimg.com/vi/FSVVlcFUCMk/hqdefault.j...</td>\n",
       "    </tr>\n",
       "    <tr>\n",
       "      <th>4</th>\n",
       "      <td>Follow This Plan To Score More Than 95% in Boa...</td>\n",
       "      <td>16 Feb 2023</td>\n",
       "      <td>311K views</td>\n",
       "      <td>https://www.youtube.com/watch?v=vKxdTuOirnI</td>\n",
       "      <td>https://i.ytimg.com/vi/vKxdTuOirnI/hqdefault.j...</td>\n",
       "    </tr>\n",
       "  </tbody>\n",
       "</table>\n",
       "</div>"
      ],
      "text/plain": [
       "                                               title   uploadDate       views  \\\n",
       "0             How to Attempt English Board Exam ????  23 Feb 2023  100K views   \n",
       "1  Best technique to attempt SST paper in Board e...  23 Feb 2023   53K views   \n",
       "2  Last Minute Strategy To Score More Than 98% ||...  22 Feb 2023   21K views   \n",
       "3  Why You Should Choose Commerce After 10th? || ...  20 Feb 2023   28K views   \n",
       "4  Follow This Plan To Score More Than 95% in Boa...  16 Feb 2023  311K views   \n",
       "\n",
       "                                      videoURL  \\\n",
       "0  https://www.youtube.com/watch?v=nX5ONgCdLcc   \n",
       "1  https://www.youtube.com/watch?v=AM2Dt7cNebw   \n",
       "2  https://www.youtube.com/watch?v=7nMJVhey9TM   \n",
       "3  https://www.youtube.com/watch?v=FSVVlcFUCMk   \n",
       "4  https://www.youtube.com/watch?v=vKxdTuOirnI   \n",
       "\n",
       "                                        thumbnailURL  \n",
       "0  https://i.ytimg.com/vi/nX5ONgCdLcc/hqdefault.j...  \n",
       "1  https://i.ytimg.com/vi/AM2Dt7cNebw/hqdefault.j...  \n",
       "2  https://i.ytimg.com/vi/7nMJVhey9TM/hqdefault.j...  \n",
       "3  https://i.ytimg.com/vi/FSVVlcFUCMk/hqdefault.j...  \n",
       "4  https://i.ytimg.com/vi/vKxdTuOirnI/hqdefault.j...  "
      ]
     },
     "execution_count": 105,
     "metadata": {},
     "output_type": "execute_result"
    }
   ],
   "source": [
    "url = \"https://www.youtube.com/@PW-Foundation/videos\"\n",
    "PW_df = get_yt_data(url)\n",
    "PW_df"
   ]
  },
  {
   "attachments": {},
   "cell_type": "markdown",
   "metadata": {},
   "source": [
    "<a id=\"8\"></a>\n",
    "\n",
    "# <p style=\"padding:10px;background-color:#87CEEB ;margin:10;color:#000000;font-family:newtimeroman;font-size:100%;text-align:center;border-radius: 10px 10px ;overflow:hidden;font-weight:50\">Timing the function</p>"
   ]
  },
  {
   "cell_type": "code",
   "execution_count": 107,
   "metadata": {},
   "outputs": [
    {
     "name": "stdout",
     "output_type": "stream",
     "text": [
      "4.09 s ± 167 ms per loop (mean ± std. dev. of 20 runs, 1 loop each)\n"
     ]
    }
   ],
   "source": [
    "%%timeit -r 20 -n 1\n",
    "url = \"https://www.youtube.com/@PW-Foundation/videos\"\n",
    "PW_df = get_yt_data(url)"
   ]
  }
 ],
 "metadata": {
  "kernelspec": {
   "display_name": "venv",
   "language": "python",
   "name": "python3"
  },
  "language_info": {
   "codemirror_mode": {
    "name": "ipython",
    "version": 3
   },
   "file_extension": ".py",
   "mimetype": "text/x-python",
   "name": "python",
   "nbconvert_exporter": "python",
   "pygments_lexer": "ipython3",
   "version": "3.10.7"
  },
  "orig_nbformat": 4,
  "vscode": {
   "interpreter": {
    "hash": "27149e82490bdaa27222c4e29544e396278d224a9f42010d392c3451ce079b12"
   }
  }
 },
 "nbformat": 4,
 "nbformat_minor": 2
}
